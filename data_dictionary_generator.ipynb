{
 "cells": [
  {
   "cell_type": "code",
   "execution_count": 3,
   "metadata": {
    "_cell_guid": "b1076dfc-b9ad-4769-8c92-a6c4dae69d19",
    "_uuid": "8f2839f25d086af736a60e9eeb907d3b93b6e0e5",
    "execution": {
     "iopub.execute_input": "2024-10-17T12:54:05.631186Z",
     "iopub.status.busy": "2024-10-17T12:54:05.630120Z",
     "iopub.status.idle": "2024-10-17T12:54:05.641344Z",
     "shell.execute_reply": "2024-10-17T12:54:05.639601Z",
     "shell.execute_reply.started": "2024-10-17T12:54:05.631138Z"
    }
   },
   "outputs": [
    {
     "name": "stdout",
     "output_type": "stream",
     "text": [
      "/kaggle/input/dynamic-pricing-dataset/dynamic_pricing.csv\n"
     ]
    }
   ],
   "source": [
    "# This Python 3 environment comes with many helpful analytics libraries installed\n",
    "# It is defined by the kaggle/python Docker image: https://github.com/kaggle/docker-python\n",
    "# For example, here's several helpful packages to load\n",
    "\n",
    "import numpy as np # linear algebra\n",
    "import pandas as pd # data processing, CSV file I/O (e.g. pd.read_csv)\n",
    "\n",
    "# Input data files are available in the read-only \"../input/\" directory\n",
    "# For example, running this (by clicking run or pressing Shift+Enter) will list all files under the input directory\n",
    "\n",
    "import os\n",
    "for dirname, _, filenames in os.walk('/kaggle/input'):\n",
    "    for filename in filenames:\n",
    "        print(os.path.join(dirname, filename))\n",
    "\n",
    "# You can write up to 20GB to the current directory (/kaggle/working/) that gets preserved as output when you create a version using \"Save & Run All\" \n",
    "# You can also write temporary files to /kaggle/temp/, but they won't be saved outside of the current session"
   ]
  },
  {
   "cell_type": "code",
   "execution_count": 4,
   "metadata": {
    "execution": {
     "iopub.execute_input": "2024-10-17T12:54:07.360914Z",
     "iopub.status.busy": "2024-10-17T12:54:07.360448Z",
     "iopub.status.idle": "2024-10-17T12:54:07.371213Z",
     "shell.execute_reply": "2024-10-17T12:54:07.369851Z",
     "shell.execute_reply.started": "2024-10-17T12:54:07.360874Z"
    }
   },
   "outputs": [],
   "source": [
    "data=pd.read_csv(\"/kaggle/input/dynamic-pricing-dataset/dynamic_pricing.csv\")"
   ]
  },
  {
   "cell_type": "markdown",
   "metadata": {},
   "source": [
    "## Create a data dictionary\n"
   ]
  },
  {
   "cell_type": "code",
   "execution_count": 10,
   "metadata": {
    "execution": {
     "iopub.execute_input": "2024-10-17T13:06:28.351239Z",
     "iopub.status.busy": "2024-10-17T13:06:28.350853Z",
     "iopub.status.idle": "2024-10-17T13:06:28.420984Z",
     "shell.execute_reply": "2024-10-17T13:06:28.419834Z",
     "shell.execute_reply.started": "2024-10-17T13:06:28.351204Z"
    }
   },
   "outputs": [
    {
     "data": {
      "text/html": [
       "<div>\n",
       "<style scoped>\n",
       "    .dataframe tbody tr th:only-of-type {\n",
       "        vertical-align: middle;\n",
       "    }\n",
       "\n",
       "    .dataframe tbody tr th {\n",
       "        vertical-align: top;\n",
       "    }\n",
       "\n",
       "    .dataframe thead th {\n",
       "        text-align: right;\n",
       "    }\n",
       "</style>\n",
       "<table border=\"1\" class=\"dataframe\">\n",
       "  <thead>\n",
       "    <tr style=\"text-align: right;\">\n",
       "      <th></th>\n",
       "      <th>Column</th>\n",
       "      <th>Count</th>\n",
       "      <th>Unique Values</th>\n",
       "      <th>Range</th>\n",
       "      <th>Null values</th>\n",
       "      <th>Possible Values</th>\n",
       "    </tr>\n",
       "  </thead>\n",
       "  <tbody>\n",
       "    <tr>\n",
       "      <th>0</th>\n",
       "      <td>Number_of_Riders</td>\n",
       "      <td>1000</td>\n",
       "      <td>81</td>\n",
       "      <td>20-100</td>\n",
       "      <td>0</td>\n",
       "      <td>[21, 22, 23, 24, 25]</td>\n",
       "    </tr>\n",
       "    <tr>\n",
       "      <th>1</th>\n",
       "      <td>Number_of_Drivers</td>\n",
       "      <td>1000</td>\n",
       "      <td>79</td>\n",
       "      <td>5-89</td>\n",
       "      <td>0</td>\n",
       "      <td>[5, 6, 7, 8, 9]</td>\n",
       "    </tr>\n",
       "    <tr>\n",
       "      <th>2</th>\n",
       "      <td>Location_Category</td>\n",
       "      <td>1000</td>\n",
       "      <td>3</td>\n",
       "      <td>Rural-Urban</td>\n",
       "      <td>0</td>\n",
       "      <td>[Rural, Urban, Suburban]</td>\n",
       "    </tr>\n",
       "    <tr>\n",
       "      <th>3</th>\n",
       "      <td>Customer_Loyalty_Status</td>\n",
       "      <td>1000</td>\n",
       "      <td>3</td>\n",
       "      <td>Gold-Silver</td>\n",
       "      <td>0</td>\n",
       "      <td>[Gold, Regular, Silver]</td>\n",
       "    </tr>\n",
       "    <tr>\n",
       "      <th>4</th>\n",
       "      <td>Number_of_Past_Rides</td>\n",
       "      <td>1000</td>\n",
       "      <td>101</td>\n",
       "      <td>0-100</td>\n",
       "      <td>0</td>\n",
       "      <td>[0, 1, 2, 3, 4]</td>\n",
       "    </tr>\n",
       "    <tr>\n",
       "      <th>5</th>\n",
       "      <td>Average_Ratings</td>\n",
       "      <td>1000</td>\n",
       "      <td>151</td>\n",
       "      <td>3.5-5.0</td>\n",
       "      <td>0</td>\n",
       "      <td>[3.53, 4.78, 3.57, 4.98, 4.29]</td>\n",
       "    </tr>\n",
       "    <tr>\n",
       "      <th>6</th>\n",
       "      <td>Time_of_Booking</td>\n",
       "      <td>1000</td>\n",
       "      <td>4</td>\n",
       "      <td>Afternoon-Night</td>\n",
       "      <td>0</td>\n",
       "      <td>[Night, Afternoon, Evening, Morning]</td>\n",
       "    </tr>\n",
       "    <tr>\n",
       "      <th>7</th>\n",
       "      <td>Vehicle_Type</td>\n",
       "      <td>1000</td>\n",
       "      <td>2</td>\n",
       "      <td>Economy-Premium</td>\n",
       "      <td>0</td>\n",
       "      <td>[Premium, Economy]</td>\n",
       "    </tr>\n",
       "    <tr>\n",
       "      <th>8</th>\n",
       "      <td>Expected_Ride_Duration</td>\n",
       "      <td>1000</td>\n",
       "      <td>171</td>\n",
       "      <td>10-180</td>\n",
       "      <td>0</td>\n",
       "      <td>[11, 12, 14, 16, 17]</td>\n",
       "    </tr>\n",
       "    <tr>\n",
       "      <th>9</th>\n",
       "      <td>Historical_Cost_of_Ride</td>\n",
       "      <td>1000</td>\n",
       "      <td>1000</td>\n",
       "      <td>25.993449448411635-836.1164185613576</td>\n",
       "      <td>0</td>\n",
       "      <td>[517.9444619823878, 518.9547629602604, 510.626...</td>\n",
       "    </tr>\n",
       "  </tbody>\n",
       "</table>\n",
       "</div>"
      ],
      "text/plain": [
       "                    Column  Count  Unique Values  \\\n",
       "0         Number_of_Riders   1000             81   \n",
       "1        Number_of_Drivers   1000             79   \n",
       "2        Location_Category   1000              3   \n",
       "3  Customer_Loyalty_Status   1000              3   \n",
       "4     Number_of_Past_Rides   1000            101   \n",
       "5          Average_Ratings   1000            151   \n",
       "6          Time_of_Booking   1000              4   \n",
       "7             Vehicle_Type   1000              2   \n",
       "8   Expected_Ride_Duration   1000            171   \n",
       "9  Historical_Cost_of_Ride   1000           1000   \n",
       "\n",
       "                                  Range  Null values  \\\n",
       "0                                20-100            0   \n",
       "1                                  5-89            0   \n",
       "2                           Rural-Urban            0   \n",
       "3                           Gold-Silver            0   \n",
       "4                                 0-100            0   \n",
       "5                               3.5-5.0            0   \n",
       "6                       Afternoon-Night            0   \n",
       "7                       Economy-Premium            0   \n",
       "8                                10-180            0   \n",
       "9  25.993449448411635-836.1164185613576            0   \n",
       "\n",
       "                                     Possible Values  \n",
       "0                               [21, 22, 23, 24, 25]  \n",
       "1                                    [5, 6, 7, 8, 9]  \n",
       "2                           [Rural, Urban, Suburban]  \n",
       "3                            [Gold, Regular, Silver]  \n",
       "4                                    [0, 1, 2, 3, 4]  \n",
       "5                     [3.53, 4.78, 3.57, 4.98, 4.29]  \n",
       "6               [Night, Afternoon, Evening, Morning]  \n",
       "7                                 [Premium, Economy]  \n",
       "8                               [11, 12, 14, 16, 17]  \n",
       "9  [517.9444619823878, 518.9547629602604, 510.626...  "
      ]
     },
     "execution_count": 10,
     "metadata": {},
     "output_type": "execute_result"
    }
   ],
   "source": [
    "def get_data_dictionary (data):\n",
    "\n",
    "    data_dict=pd.DataFrame(columns= ['Column', 'Count', 'Unique Values', 'Range', 'Null values', 'Possible Values'])\n",
    "    \n",
    "    for col in data.columns:\n",
    "        count=data[col].shape[0]\n",
    "        unique_values=data[col].nunique()\n",
    "        if unique_values>1:\n",
    "            range=f\"{data[col].min()}-{data[col].max()}\"\n",
    "\n",
    "        else:\n",
    "\n",
    "            range=np.nan\n",
    "\n",
    "        nulls=data[col].isna().sum()\n",
    "\n",
    "        values=list(data[col].sample (frac=0.25, replace=False, random_state=42))\n",
    "\n",
    "        values=list (set (values))[:5]\n",
    "\n",
    "        data_dict.loc [len(data_dict)]=[col,count, unique_values, range, nulls, values]\n",
    "\n",
    "    return data_dict\n",
    "\n",
    "data_dict=get_data_dictionary (data)\n",
    "\n",
    "data_dict"
   ]
  },
  {
   "cell_type": "code",
   "execution_count": null,
   "metadata": {},
   "outputs": [],
   "source": []
  }
 ],
 "metadata": {
  "kaggle": {
   "accelerator": "none",
   "dataSources": [
    {
     "datasetId": 4365344,
     "sourceId": 7496965,
     "sourceType": "datasetVersion"
    }
   ],
   "dockerImageVersionId": 30786,
   "isGpuEnabled": false,
   "isInternetEnabled": false,
   "language": "python",
   "sourceType": "notebook"
  },
  "kernelspec": {
   "display_name": "Python 3 (ipykernel)",
   "language": "python",
   "name": "python3"
  },
  "language_info": {
   "codemirror_mode": {
    "name": "ipython",
    "version": 3
   },
   "file_extension": ".py",
   "mimetype": "text/x-python",
   "name": "python",
   "nbconvert_exporter": "python",
   "pygments_lexer": "ipython3",
   "version": "3.9.7"
  }
 },
 "nbformat": 4,
 "nbformat_minor": 4
}
